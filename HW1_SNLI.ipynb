{
 "cells": [
  {
   "cell_type": "code",
   "execution_count": 1,
   "metadata": {},
   "outputs": [
    {
     "name": "stderr",
     "output_type": "stream",
     "text": [
      "c:\\Users\\hamza\\anaconda3\\envs\\csci5541\\lib\\site-packages\\tqdm\\auto.py:22: TqdmWarning: IProgress not found. Please update jupyter and ipywidgets. See https://ipywidgets.readthedocs.io/en/stable/user_install.html\n",
      "  from .autonotebook import tqdm as notebook_tqdm\n"
     ]
    }
   ],
   "source": [
    "import torch\n",
    "torch.cuda.empty_cache()\n",
    "from datasets import load_dataset\n",
    "from transformers import AutoTokenizer, AutoModelForSequenceClassification,\\\n",
    "    TrainingArguments, Trainer, pipeline, DataCollatorWithPadding, set_seed\n",
    "import evaluate\n",
    "import numpy as np\n",
    "import pandas as pd\n",
    "import torch.nn as nn\n",
    "import math\n",
    "import time\n",
    "from tqdm import tqdm"
   ]
  },
  {
   "cell_type": "code",
   "execution_count": 2,
   "metadata": {},
   "outputs": [
    {
     "data": {
      "text/plain": [
       "'cuda:0'"
      ]
     },
     "execution_count": 2,
     "metadata": {},
     "output_type": "execute_result"
    }
   ],
   "source": [
    "set_seed(42)\n",
    "device = \"cuda:0\" if torch.cuda.is_available() else \"cpu\"\n",
    "device"
   ]
  },
  {
   "cell_type": "code",
   "execution_count": 3,
   "metadata": {},
   "outputs": [
    {
     "name": "stderr",
     "output_type": "stream",
     "text": [
      "Found cached dataset snli (C:/Users/hamza/.cache/huggingface/datasets/snli/plain_text/1.0.0/1f60b67533b65ae0275561ff7828aad5ee4282d0e6f844fd148d05d3c6ea251b)\n",
      "100%|██████████| 3/3 [00:00<00:00, 428.16it/s]\n"
     ]
    },
    {
     "data": {
      "text/plain": [
       "DatasetDict({\n",
       "    test: Dataset({\n",
       "        features: ['premise', 'hypothesis', 'label'],\n",
       "        num_rows: 10000\n",
       "    })\n",
       "    train: Dataset({\n",
       "        features: ['premise', 'hypothesis', 'label'],\n",
       "        num_rows: 550152\n",
       "    })\n",
       "    validation: Dataset({\n",
       "        features: ['premise', 'hypothesis', 'label'],\n",
       "        num_rows: 10000\n",
       "    })\n",
       "})"
      ]
     },
     "execution_count": 3,
     "metadata": {},
     "output_type": "execute_result"
    }
   ],
   "source": [
    "snli = load_dataset(\"snli\")\n",
    "snli"
   ]
  },
  {
   "cell_type": "code",
   "execution_count": 4,
   "metadata": {},
   "outputs": [
    {
     "name": "stdout",
     "output_type": "stream",
     "text": [
      "--train_text[0]--: A person on a horse jumps over a broken down airplane. A person is training his horse for a competition.\n",
      "--original + hypothesis--: A person on a horse jumps over a broken down airplane.A person is training his horse for a competition.\n",
      "\n",
      "--test_text[0]--: This church choir sings to the masses as they sing joyous songs from the book at a church. The church has cracks in the ceiling.\n",
      "--original + hypothesis--: This church choir sings to the masses as they sing joyous songs from the book at a church.The church has cracks in the ceiling.\n",
      "\n",
      "--valid_text[0]--: Two women are embracing while holding to go packages. The sisters are hugging goodbye while holding to go packages after just eating lunch.\n",
      "--original + hypothesis--: Two women are embracing while holding to go packages.The sisters are hugging goodbye while holding to go packages after just eating lunch.\n"
     ]
    },
    {
     "data": {
      "text/plain": [
       "DatasetDict({\n",
       "    test: Dataset({\n",
       "        features: ['label', 'text'],\n",
       "        num_rows: 10000\n",
       "    })\n",
       "    train: Dataset({\n",
       "        features: ['label', 'text'],\n",
       "        num_rows: 550152\n",
       "    })\n",
       "    validation: Dataset({\n",
       "        features: ['label', 'text'],\n",
       "        num_rows: 10000\n",
       "    })\n",
       "})"
      ]
     },
     "execution_count": 4,
     "metadata": {},
     "output_type": "execute_result"
    }
   ],
   "source": [
    "# per chatGPT's suggestion, let's concatenate premise + hypothesis into a \"text\" column.\n",
    "train_text = np.char.add(np.char.add(snli['train']['premise'], ' '), snli['train']['hypothesis'])\n",
    "test_text = np.char.add(np.char.add(snli['test']['premise'], ' '), snli['test']['hypothesis'])\n",
    "valid_text = np.char.add(np.char.add(snli['validation']['premise'], ' '), snli['validation']['hypothesis'])\n",
    "\n",
    "# let's do a sanity check to make sure concatenation was done correctly\n",
    "print(f'--train_text[0]--: {train_text[0]}')\n",
    "print(f'--original + hypothesis--: {snli[\"train\"][\"premise\"][0]+snli[\"train\"][\"hypothesis\"][0]}\\n')\n",
    "\n",
    "print(f'--test_text[0]--: {test_text[0]}')\n",
    "print(f'--original + hypothesis--: {snli[\"test\"][\"premise\"][0]+snli[\"test\"][\"hypothesis\"][0]}\\n')\n",
    "\n",
    "print(f'--valid_text[0]--: {valid_text[0]}')\n",
    "print(f'--original + hypothesis--: {snli[\"validation\"][\"premise\"][0]+snli[\"validation\"][\"hypothesis\"][0]}')\n",
    "\n",
    "snli[\"train\"] = snli[\"train\"].remove_columns([\"premise\", \"hypothesis\"])\n",
    "snli[\"train\"] = snli[\"train\"].add_column(\"text\", train_text)\n",
    "\n",
    "snli[\"test\"] = snli[\"test\"].remove_columns([\"premise\", \"hypothesis\"])\n",
    "snli[\"test\"] = snli[\"test\"].add_column(\"text\", test_text)\n",
    "\n",
    "snli[\"validation\"] = snli[\"validation\"].remove_columns([\"premise\", \"hypothesis\"])\n",
    "snli[\"validation\"] = snli[\"validation\"].add_column(\"text\", valid_text)\n",
    "\n",
    "snli"
   ]
  },
  {
   "cell_type": "code",
   "execution_count": 5,
   "metadata": {},
   "outputs": [
    {
     "name": "stdout",
     "output_type": "stream",
     "text": [
      "c:\\Users\\hamza\\anaconda3\\envs\\csci5541\\python.exe\n"
     ]
    }
   ],
   "source": [
    "import sys\n",
    "print(sys.executable)"
   ]
  },
  {
   "cell_type": "code",
   "execution_count": 6,
   "metadata": {},
   "outputs": [
    {
     "name": "stderr",
     "output_type": "stream",
     "text": [
      "100%|██████████| 10/10 [00:00<00:00, 384.24ba/s]\n",
      "100%|██████████| 551/551 [00:01<00:00, 508.65ba/s]\n",
      "100%|██████████| 10/10 [00:00<00:00, 461.48ba/s]\n"
     ]
    }
   ],
   "source": [
    "# print(snli[\"train\"][\"premise\"][0])\n",
    "\n",
    "# remove all non \"gold-label\" entries\n",
    "snli = snli.filter(lambda example: example[\"label\"] != -1)"
   ]
  },
  {
   "cell_type": "code",
   "execution_count": 7,
   "metadata": {},
   "outputs": [],
   "source": [
    "tokenizer = AutoTokenizer.from_pretrained(\"roberta-base\")"
   ]
  },
  {
   "cell_type": "code",
   "execution_count": 9,
   "metadata": {},
   "outputs": [
    {
     "name": "stderr",
     "output_type": "stream",
     "text": [
      "100%|██████████| 10/10 [00:00<00:00, 22.25ba/s]\n",
      "100%|██████████| 550/550 [00:25<00:00, 21.52ba/s]\n",
      "100%|██████████| 10/10 [00:00<00:00, 22.80ba/s]\n"
     ]
    }
   ],
   "source": [
    "def preprocess_function(examples):\n",
    "    return tokenizer(examples[\"text\"], truncation=True)\n",
    "    \n",
    "tokenized_snli= snli.map(preprocess_function, batched=True)"
   ]
  },
  {
   "cell_type": "code",
   "execution_count": 10,
   "metadata": {},
   "outputs": [
    {
     "data": {
      "text/plain": [
       "DatasetDict({\n",
       "    test: Dataset({\n",
       "        features: ['label', 'text', 'input_ids', 'attention_mask'],\n",
       "        num_rows: 9824\n",
       "    })\n",
       "    train: Dataset({\n",
       "        features: ['label', 'text', 'input_ids', 'attention_mask'],\n",
       "        num_rows: 549367\n",
       "    })\n",
       "    validation: Dataset({\n",
       "        features: ['label', 'text', 'input_ids', 'attention_mask'],\n",
       "        num_rows: 9842\n",
       "    })\n",
       "})"
      ]
     },
     "execution_count": 10,
     "metadata": {},
     "output_type": "execute_result"
    }
   ],
   "source": [
    "tokenized_snli"
   ]
  },
  {
   "cell_type": "code",
   "execution_count": 12,
   "metadata": {},
   "outputs": [],
   "source": [
    "# print(tokenized_snli[\"train\"][\"hypothesis\"][0])\n",
    "data_collator = DataCollatorWithPadding(tokenizer=tokenizer)"
   ]
  },
  {
   "cell_type": "code",
   "execution_count": 13,
   "metadata": {},
   "outputs": [],
   "source": [
    "accuracy = evaluate.load(\"accuracy\")"
   ]
  },
  {
   "cell_type": "code",
   "execution_count": 14,
   "metadata": {},
   "outputs": [],
   "source": [
    "def compute_metrics(eval_pred):\n",
    "    predictions, labels = eval_pred\n",
    "    predictions = np.argmax(predictions, axis=1)\n",
    "    return accuracy.compute(predictions=predictions, references=labels)"
   ]
  },
  {
   "cell_type": "code",
   "execution_count": 15,
   "metadata": {},
   "outputs": [
    {
     "name": "stderr",
     "output_type": "stream",
     "text": [
      "Some weights of the model checkpoint at roberta-base were not used when initializing RobertaForSequenceClassification: ['lm_head.decoder.weight', 'roberta.pooler.dense.weight', 'lm_head.layer_norm.weight', 'roberta.pooler.dense.bias', 'lm_head.dense.bias', 'lm_head.bias', 'lm_head.layer_norm.bias', 'lm_head.dense.weight']\n",
      "- This IS expected if you are initializing RobertaForSequenceClassification from the checkpoint of a model trained on another task or with another architecture (e.g. initializing a BertForSequenceClassification model from a BertForPreTraining model).\n",
      "- This IS NOT expected if you are initializing RobertaForSequenceClassification from the checkpoint of a model that you expect to be exactly identical (initializing a BertForSequenceClassification model from a BertForSequenceClassification model).\n",
      "Some weights of RobertaForSequenceClassification were not initialized from the model checkpoint at roberta-base and are newly initialized: ['classifier.out_proj.bias', 'classifier.out_proj.weight', 'classifier.dense.bias', 'classifier.dense.weight']\n",
      "You should probably TRAIN this model on a down-stream task to be able to use it for predictions and inference.\n"
     ]
    }
   ],
   "source": [
    "# Is this necessary? yes\n",
    "id2label = {0: \"entailment\", 1: \"neutral\", 2:\"contradiction\"}\n",
    "label2id = {\"entailment\": 0, \"neutral\": 1, \"contradiction\": 2}\n",
    "model = AutoModelForSequenceClassification.from_pretrained(\n",
    "    \"roberta-base\", num_labels=3, id2label=id2label, label2id=label2id\n",
    ")"
   ]
  },
  {
   "cell_type": "code",
   "execution_count": 16,
   "metadata": {},
   "outputs": [],
   "source": [
    "train_loss_list = []\n",
    "train_acc_list = []\n",
    "eval_loss_list = []\n",
    "eval_acc_list = []\n",
    "time_per_epoch_list = []"
   ]
  },
  {
   "cell_type": "code",
   "execution_count": 17,
   "metadata": {},
   "outputs": [],
   "source": [
    "class CustomTrainer(Trainer):\n",
    "    def _inner_training_loop(\n",
    "        self, batch_size=None, args=None, resume_from_checkpoint=None, trial=None, ignore_keys_for_eval=None\n",
    "    ):\n",
    "        number_of_epochs = args.num_train_epochs\n",
    "        start = time.time()\n",
    "        train_loss=[]\n",
    "        train_acc=[]\n",
    "        eval_acc=[]\n",
    "\n",
    "        criterion = torch.nn.CrossEntropyLoss().to(device)\n",
    "        self.optimizer = torch.optim.Adam(model.parameters(), lr=args.learning_rate)\n",
    "        self.scheduler = torch.optim.lr_scheduler.StepLR(self.optimizer, 1, gamma=0.9)\n",
    "        \n",
    "        train_dataloader = self.get_train_dataloader()\n",
    "        eval_dataloader = self.get_eval_dataloader()\n",
    "\n",
    "        for epoch in range(number_of_epochs):\n",
    "            train_loss_per_epoch = 0\n",
    "            train_acc_per_epoch = 0\n",
    "            with tqdm(train_dataloader, unit=\"batch\") as training_epoch:\n",
    "                training_epoch.set_description(f\"Training Epoch {epoch}\")\n",
    "                for step, inputs in enumerate(training_epoch):\n",
    "                    inputs = inputs.to(device)\n",
    "                    labels = inputs['labels']\n",
    "                    # forward pass\n",
    "                    self.optimizer.zero_grad()\n",
    "                    output = model(inputs['input_ids'])\n",
    "                    # get the loss\n",
    "                    loss = criterion(output['logits'], labels)\n",
    "                    train_loss_per_epoch += loss.item()\n",
    "                    #calculate gradients\n",
    "                    loss.backward()\n",
    "                    #update weights\n",
    "                    self.optimizer.step()\n",
    "                    train_acc_per_epoch += (output['logits'].argmax(1) == labels).sum().item()\n",
    "            # adjust the learning rate\n",
    "            self.scheduler.step()\n",
    "            train_loss_per_epoch /= len(train_dataloader)\n",
    "            train_acc_per_epoch /= (len(train_dataloader)*batch_size)\n",
    "            \n",
    "            \n",
    "            eval_loss_per_epoch = 0\n",
    "            eval_acc_per_epoch = 0\n",
    "            with tqdm(eval_dataloader, unit=\"batch\") as eval_epoch:\n",
    "                eval_epoch.set_description(f\"Evaluation Epoch {epoch}\")\n",
    "                for step, inputs in enumerate(eval_epoch):\n",
    "                    inputs = inputs.to(device)\n",
    "                    labels = inputs['labels']\n",
    "                    with torch.no_grad():\n",
    "                        output = model(inputs['input_ids'])\n",
    "                        loss = criterion(output['logits'], labels)\n",
    "                        eval_loss_per_epoch += loss.item()\n",
    "                        eval_acc_per_epoch += (output['logits'].argmax(1) == labels).sum().item()\n",
    "            eval_loss_per_epoch /= (len(eval_dataloader))\n",
    "            eval_acc_per_epoch /= (len(eval_dataloader)*batch_size)\n",
    "        \n",
    "            \n",
    "            print(f'\\tTrain Loss: {train_loss_per_epoch:.3f} | Train Acc: {train_acc_per_epoch*100:.2f}%')\n",
    "            print(f'\\tEval Loss: {eval_loss_per_epoch:.3f} | Eval Acc: {eval_acc_per_epoch*100:.2f}%')\n",
    "            train_loss_list.append(train_loss_per_epoch)\n",
    "            train_acc_list.append(train_acc_per_epoch)\n",
    "            eval_loss_list.append(eval_loss_per_epoch)\n",
    "            eval_acc_list.append(eval_acc_per_epoch)\n",
    "            time_per_epoch_list.append((time.time()-start)/60)\n",
    "    \n",
    "        print(f'Time: {(time.time()-start)/60:.3f} minutes')"
   ]
  },
  {
   "cell_type": "code",
   "execution_count": 18,
   "metadata": {},
   "outputs": [
    {
     "name": "stderr",
     "output_type": "stream",
     "text": [
      "The following columns in the training set don't have a corresponding argument in `RobertaForSequenceClassification.forward` and have been ignored: text. If text are not expected by `RobertaForSequenceClassification.forward`,  you can safely ignore this message.\n",
      "The following columns in the evaluation set don't have a corresponding argument in `RobertaForSequenceClassification.forward` and have been ignored: text. If text are not expected by `RobertaForSequenceClassification.forward`,  you can safely ignore this message.\n",
      "Training Epoch 0:   0%|          | 0/17168 [00:00<?, ?batch/s]You're using a RobertaTokenizerFast tokenizer. Please note that with a fast tokenizer, using the `__call__` method is faster than using a method to encode the text followed by a call to the `pad` method to get a padded encoding.\n",
      "Training Epoch 0: 100%|██████████| 17168/17168 [27:30<00:00, 10.40batch/s]\n",
      "Evaluation Epoch 0: 100%|██████████| 307/307 [00:07<00:00, 40.53batch/s]\n"
     ]
    },
    {
     "name": "stdout",
     "output_type": "stream",
     "text": [
      "\tTrain Loss: 0.336 | Train Acc: 87.44%\n",
      "\tEval Loss: 0.258 | Eval Acc: 90.82%\n"
     ]
    },
    {
     "name": "stderr",
     "output_type": "stream",
     "text": [
      "Training Epoch 1: 100%|██████████| 17168/17168 [27:28<00:00, 10.41batch/s]\n",
      "Evaluation Epoch 1: 100%|██████████| 307/307 [00:07<00:00, 40.59batch/s]\n"
     ]
    },
    {
     "name": "stdout",
     "output_type": "stream",
     "text": [
      "\tTrain Loss: 0.228 | Train Acc: 91.88%\n",
      "\tEval Loss: 0.254 | Eval Acc: 90.89%\n"
     ]
    },
    {
     "name": "stderr",
     "output_type": "stream",
     "text": [
      "Training Epoch 2: 100%|██████████| 17168/17168 [27:28<00:00, 10.42batch/s]\n",
      "Evaluation Epoch 2: 100%|██████████| 307/307 [00:07<00:00, 40.66batch/s]\n"
     ]
    },
    {
     "name": "stdout",
     "output_type": "stream",
     "text": [
      "\tTrain Loss: 0.152 | Train Acc: 94.80%\n",
      "\tEval Loss: 0.297 | Eval Acc: 90.72%\n"
     ]
    },
    {
     "name": "stderr",
     "output_type": "stream",
     "text": [
      "Training Epoch 3: 100%|██████████| 17168/17168 [27:26<00:00, 10.42batch/s]\n",
      "Evaluation Epoch 3: 100%|██████████| 307/307 [00:07<00:00, 40.62batch/s]\n"
     ]
    },
    {
     "name": "stdout",
     "output_type": "stream",
     "text": [
      "\tTrain Loss: 0.097 | Train Acc: 96.83%\n",
      "\tEval Loss: 0.352 | Eval Acc: 90.48%\n",
      "Time: 110.440 minutes\n"
     ]
    }
   ],
   "source": [
    "# https://huggingface.co/transformers/v4.4.2/main_classes/trainer.html#trainingarguments\n",
    "training_args = TrainingArguments(\n",
    "    output_dir=\"csci5541_hw1_roberta_v1\",\n",
    "    learning_rate=1e-5,\n",
    "    per_device_train_batch_size=32,\n",
    "    per_device_eval_batch_size=32,\n",
    "    num_train_epochs=4,\n",
    "    weight_decay=0.01,\n",
    "    evaluation_strategy=\"epoch\",\n",
    "    save_strategy=\"epoch\",\n",
    "    load_best_model_at_end=True,\n",
    ")\n",
    "\n",
    "# https://huggingface.co/transformers/v4.4.2/main_classes/trainer.html#id1\n",
    "trainer = CustomTrainer(\n",
    "    model=model,\n",
    "    args=training_args,\n",
    "    train_dataset=tokenized_snli[\"train\"],\n",
    "    eval_dataset=tokenized_snli[\"test\"],\n",
    "    tokenizer=tokenizer,\n",
    "    data_collator=data_collator,\n",
    "    compute_metrics=compute_metrics,\n",
    ")\n",
    "\n",
    "trainer.train()"
   ]
  },
  {
   "cell_type": "code",
   "execution_count": 20,
   "metadata": {},
   "outputs": [
    {
     "name": "stderr",
     "output_type": "stream",
     "text": [
      "Configuration saved in ./roberta_model_v1\\config.json\n",
      "Model weights saved in ./roberta_model_v1\\pytorch_model.bin\n"
     ]
    }
   ],
   "source": [
    "model.save_pretrained(\"./roberta_model_v1\")"
   ]
  },
  {
   "cell_type": "code",
   "execution_count": 22,
   "metadata": {},
   "outputs": [
    {
     "data": {
      "image/png": "[encoded data removed]",
      "text/plain": [
       "<Figure size 640x480 with 1 Axes>"
      ]
     },
     "metadata": {},
     "output_type": "display_data"
    }
   ],
   "source": [
    "import matplotlib.pyplot as plt\n",
    "\n",
    "# Data for plotting\n",
    "t = np.arange(0.0, 100, 1)\n",
    "\n",
    "# fig, ax = plt.subplots()\n",
    "plt.plot(train_loss_list, label=\"training loss\")\n",
    "plt.plot(train_acc_list, label=\"training accuracy\")\n",
    "# plt.plot(eval_loss_list, label=\"evaluation loss\")\n",
    "plt.plot(eval_acc_list, label=\"evaluation accuracy\")\n",
    "plt.legend()\n",
    "# ax.set(xlabel='time (s)', ylabel='voltage (mV)',\n",
    "#        title='About as simple as it gets, folks')\n",
    "plt.grid()\n",
    "\n",
    "# fig.savefig(\"test.png\")\n",
    "plt.show()"
   ]
  },
  {
   "cell_type": "code",
   "execution_count": null,
   "metadata": {},
   "outputs": [],
   "source": []
  }
 ],
 "metadata": {
  "kernelspec": {
   "display_name": "csci5541",
   "language": "python",
   "name": "python3"
  },
  "language_info": {
   "codemirror_mode": {
    "name": "ipython",
    "version": 3
   },
   "file_extension": ".py",
   "mimetype": "text/x-python",
   "name": "python",
   "nbconvert_exporter": "python",
   "pygments_lexer": "ipython3",
   "version": "3.9.16"
  },
  "orig_nbformat": 4,
  "vscode": {
   "interpreter": {
    "hash": "ea5d36905b3e4704e9a1be91b6c049389e897fad2b4d217f50809c72e814f5c8"
   }
  }
 },
 "nbformat": 4,
 "nbformat_minor": 2
}
